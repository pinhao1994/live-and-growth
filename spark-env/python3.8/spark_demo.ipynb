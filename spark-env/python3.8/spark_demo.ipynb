{
 "cells": [
  {
   "cell_type": "code",
   "execution_count": 1,
   "id": "threatened-marshall",
   "metadata": {},
   "outputs": [],
   "source": [
    "import pyspark\n",
    "from pyspark.sql import SparkSession\n",
    "from pyspark.sql import functions as F"
   ]
  },
  {
   "cell_type": "markdown",
   "id": "inappropriate-translation",
   "metadata": {},
   "source": [
    "## Start a spark session"
   ]
  },
  {
   "cell_type": "code",
   "execution_count": 2,
   "id": "musical-algeria",
   "metadata": {},
   "outputs": [],
   "source": [
    "spark = (SparkSession.builder.master(\"local[*]\")  # you can set how much thread by this: local[4] using 4 thread.\n",
    "        ).getOrCreate()"
   ]
  },
  {
   "cell_type": "markdown",
   "id": "sacred-fight",
   "metadata": {},
   "source": [
    "## Read Data\n",
    "Spark could directly read and write from Amazon s3."
   ]
  },
  {
   "cell_type": "code",
   "execution_count": 3,
   "id": "french-portugal",
   "metadata": {},
   "outputs": [],
   "source": [
    "json1_path = \"s3a://shopback-prod-tw-orca-data-backup/json1/spstore/20210305/spstore.json\"\n",
    "json2_path = \"s3a://shopback-prod-tw-orca-data-backup/json2/spstore/20210305/orca_product_spstore.json\"\n",
    "j1_df = spark.read.json(json1_path)\n",
    "j2_df = spark.read.json(json2_path)"
   ]
  },
  {
   "cell_type": "code",
   "execution_count": 4,
   "id": "third-minneapolis",
   "metadata": {},
   "outputs": [
    {
     "data": {
      "text/plain": [
       "{'cc': 'tw',\n",
       " 'crawled_ts': 1614909600,\n",
       " 'image_url': 'http://cf.shopee.tw/file/06e0f00454e8fc9246d26638caeca9a7',\n",
       " 'merchant': 'spstore',\n",
       " 'merchant_display_name': '蝦皮商城',\n",
       " 'merchant_id': 130,\n",
       " 'orca_category_lv1_id': 10,\n",
       " 'orca_category_lv2_id': 67,\n",
       " 'orca_category_lv3_id': 542,\n",
       " 'price': 190.0,\n",
       " 'product_id': '8904073469',\n",
       " 'product_rating': None,\n",
       " 'product_title': '緩解疼痛 激痛點的肌肉訓練[二手書_良好]5994',\n",
       " 'raw_brand': '楓葉社文化事業有限公司',\n",
       " 'seller': 'TAAZE讀冊生活網路書店',\n",
       " 'seller_rating': 4.97,\n",
       " 'url': 'https://shopee.tw/universal-link/product/159834670/8904073469'}"
      ]
     },
     "execution_count": 4,
     "metadata": {},
     "output_type": "execute_result"
    }
   ],
   "source": [
    "# check data\n",
    "j1_df.take(1)[0].asDict()"
   ]
  },
  {
   "cell_type": "code",
   "execution_count": 5,
   "id": "precise-brooklyn",
   "metadata": {},
   "outputs": [
    {
     "data": {
      "text/plain": [
       "{'accessoryScore': 0.0,\n",
       " 'bookScore': 0.0,\n",
       " 'brand': None,\n",
       " 'brandId': None,\n",
       " 'categoriesAnnotation': None,\n",
       " 'categoriesRank1': None,\n",
       " 'categoriesRank1Score': None,\n",
       " 'categoryFinalConfidenceScore': None,\n",
       " 'categoryLv1Id': None,\n",
       " 'categoryLv2Id': None,\n",
       " 'categoryLv3Id': None,\n",
       " 'crawledTs': 1614909600,\n",
       " 'currency': 'TWD',\n",
       " 'displayGroupTitle': 'easyCover Lens Oak for Tamron 150-600mm f/5-6.3 Di VC USD G2',\n",
       " 'groupId': 'spstore:3942642592',\n",
       " 'groupTitle': 'easyCover Lens Oak for Tamron 150-600mm f/5-6.3 Di VC USD G2',\n",
       " 'imageUrl': 'http://cf.shopee.tw/file/1b8e23c393a9addeda36e58d0946645c',\n",
       " 'imgproxyHashOriginalSize': '/4DvFwL8_PwNTs1y3hLmsWwPDbRQOnbSrXE5BMxAXkyo/aHR0cDovL2NmLnNo/b3BlZS50dy9maWxl/LzFiOGUyM2MzOTNh/OWFkZGVkYTM2ZTU4/ZDA5NDY2NDVj.jpg',\n",
       " 'imgproxyHashS180': '/FWV_eYrBg9LLj_7dUKSEw-tPYxCYaUSWJTlc-7ee9V0/fill/180/180/no/1/aHR0cDovL2NmLnNo/b3BlZS50dy9maWxl/LzFiOGUyM2MzOTNh/OWFkZGVkYTM2ZTU4/ZDA5NDY2NDVj.jpg',\n",
       " 'imgproxyHashS292': '/G7__qgzgKV3Sp1Io6qoReWZmnLNTwQ9EB1uCLbtKEvM/fill/292/292/no/1/aHR0cDovL2NmLnNo/b3BlZS50dy9maWxl/LzFiOGUyM2MzOTNh/OWFkZGVkYTM2ZTU4/ZDA5NDY2NDVj.jpg',\n",
       " 'isAdult': 'no',\n",
       " 'isCategoryFromDataFeed': False,\n",
       " 'isInStock': True,\n",
       " 'isPetProduct': False,\n",
       " 'isPriceDown': False,\n",
       " 'isPriceDownTs': 0,\n",
       " 'isSameAsMongoDoc': True,\n",
       " 'merchant': 'spstore',\n",
       " 'merchantDisplayName': '蝦皮商城',\n",
       " 'offerCount': 1,\n",
       " 'orcaMerchantId': 130,\n",
       " 'originalPrice': 1600.0,\n",
       " 'price': 1600.0,\n",
       " 'productRating': None,\n",
       " 'seller': '數位達人',\n",
       " 'sellerRating': 4.95,\n",
       " 'shippingFee': None,\n",
       " 'staticScore': 1.0,\n",
       " 'statistic_keys': [],\n",
       " 'subMerchant': None,\n",
       " 'subMerchantId': None,\n",
       " 'title': 'easyCover Lens Oak for Tamron 150-600mm f/5-6.3 Di VC USD G2',\n",
       " 'titleLength': 60,\n",
       " 'updatedAt': '2021-03-05T02:30:16.673084',\n",
       " 'url': 'https://shopee.tw/universal-link/product/8506110/3942642592'}"
      ]
     },
     "execution_count": 5,
     "metadata": {},
     "output_type": "execute_result"
    }
   ],
   "source": [
    "# check data\n",
    "j2_df.take(1)[0].asDict()"
   ]
  },
  {
   "cell_type": "markdown",
   "id": "personalized-spencer",
   "metadata": {},
   "source": [
    "## Write to S3"
   ]
  },
  {
   "cell_type": "code",
   "execution_count": 6,
   "id": "alleged-cattle",
   "metadata": {},
   "outputs": [],
   "source": [
    "# Write json format\n",
    "# If path already exists add _1 or _2 ...\n",
    "j1_df.write.json(\"s3a://staging-sg-shopback-orca-ml/blues/spark-demo/test_json1/spstore.json\")"
   ]
  },
  {
   "cell_type": "code",
   "execution_count": 7,
   "id": "handmade-darwin",
   "metadata": {},
   "outputs": [],
   "source": [
    "# Write parquet format, a compact format.\n",
    "# If path already exists add _1 or _2 ...\n",
    "j1_df.write.parquet(\"s3a://staging-sg-shopback-orca-ml/blues/spark-demo/test_json1/spstore.parquet\")\n",
    "j2_df.write.parquet(\"s3a://staging-sg-shopback-orca-ml/blues/spark-demo/test_json2/spstore.parquet\")"
   ]
  },
  {
   "cell_type": "markdown",
   "id": "closed-shell",
   "metadata": {},
   "source": [
    "## Demo some usage\n",
    "I want to know is there a category id in json1 and end up differently in json2.\n",
    "\n",
    "Use `groupId` in json2 to find original data in json1 with `product_id` column."
   ]
  },
  {
   "cell_type": "code",
   "execution_count": 8,
   "id": "macro-timothy",
   "metadata": {},
   "outputs": [],
   "source": [
    "# Read data from we just write.\n",
    "j1_df = spark.read.parquet(\"s3a://staging-sg-shopback-orca-ml/blues/spark-demo/test_json1/spstore.parquet\")\n",
    "j2_df = spark.read.parquet(\"s3a://staging-sg-shopback-orca-ml/blues/spark-demo/test_json2/spstore.parquet\")"
   ]
  },
  {
   "cell_type": "code",
   "execution_count": 9,
   "id": "ceramic-administration",
   "metadata": {},
   "outputs": [],
   "source": [
    "# Filter orca_category_lv3_id is not None.\n",
    "j1_select = (j1_df\n",
    "             .filter(j1_df[\"orca_category_lv3_id\"].isNotNull())\n",
    "             .select(\"product_id\", \"orca_category_lv3_id\", \"product_title\")\n",
    "            )\n",
    "# Filter categoryLv3Id is not None.\n",
    "# split product_id from groupId.\n",
    "j2_select = (j2_df\n",
    "             .filter(j2_df[\"categoryLv3Id\"].isNotNull())\n",
    "             .filter(j2_df[\"isCategoryFromDataFeed\"] == True)\n",
    "             .select(F.split(\"groupId\", \":\").getItem(1).alias(\"_product_id\"), \"categoryLv3Id\", \"title\")\n",
    "            )"
   ]
  },
  {
   "cell_type": "code",
   "execution_count": 10,
   "id": "global-pride",
   "metadata": {},
   "outputs": [
    {
     "name": "stdout",
     "output_type": "stream",
     "text": [
      "json1:  [Row(product_id='4647005361', orca_category_lv3_id=542, product_title='2020掌握考點【人事行政】初等考試‧地方五等課文版全套[9折]11100905908')]\n",
      "json2:  [Row(_product_id='3111750407', categoryLv3Id=88, title='Apple Watch 1 2 3 4 5代3D曲面電鍍保護貼 38 40 42 44玻璃 保護貼 滿版 手錶玻璃貼9H')]\n"
     ]
    }
   ],
   "source": [
    "# Check\n",
    "print(\"json1: \", j1_select.take(1))\n",
    "print(\"json2: \", j2_select.take(1))"
   ]
  },
  {
   "cell_type": "code",
   "execution_count": 11,
   "id": "metric-oakland",
   "metadata": {},
   "outputs": [
    {
     "data": {
      "text/plain": [
       "{'product_id': '7132713160',\n",
       " 'orca_category_lv3_id': 542,\n",
       " 'product_title': '從早到晚與從今以後 Dear 誠品eslite',\n",
       " '_product_id': '7132713160',\n",
       " 'categoryLv3Id': 542,\n",
       " 'title': '從早到晚與從今以後 Dear 誠品eslite'}"
      ]
     },
     "execution_count": 11,
     "metadata": {},
     "output_type": "execute_result"
    }
   ],
   "source": [
    "# Inner join in product_id column.\n",
    "\n",
    "join_df = j1_select.join(j2_select, j1_select.product_id == j2_select._product_id, \"left\")\n",
    "join_df.take(1)[0].asDict()"
   ]
  },
  {
   "cell_type": "code",
   "execution_count": 13,
   "id": "herbal-checklist",
   "metadata": {},
   "outputs": [
    {
     "data": {
      "text/plain": [
       "0"
      ]
     },
     "execution_count": 13,
     "metadata": {},
     "output_type": "execute_result"
    }
   ],
   "source": [
    "# filter for orca_category_lv3_id != categoryLv3Id\n",
    "filt_df = (join_df\n",
    "           .filter(join_df.categoryLv3Id != join_df.orca_category_lv3_id)\n",
    "          )\n",
    "\n",
    "filt_df.count()"
   ]
  },
  {
   "cell_type": "markdown",
   "id": "authorized-video",
   "metadata": {},
   "source": [
    "There is no category change from json1 to json2 in `20210305/spstore.json` if count equal to 0."
   ]
  },
  {
   "cell_type": "code",
   "execution_count": null,
   "id": "incident-image",
   "metadata": {},
   "outputs": [],
   "source": []
  }
 ],
 "metadata": {
  "kernelspec": {
   "display_name": "Python 3",
   "language": "python",
   "name": "python3"
  },
  "language_info": {
   "codemirror_mode": {
    "name": "ipython",
    "version": 3
   },
   "file_extension": ".py",
   "mimetype": "text/x-python",
   "name": "python",
   "nbconvert_exporter": "python",
   "pygments_lexer": "ipython3",
   "version": "3.8.8"
  }
 },
 "nbformat": 4,
 "nbformat_minor": 5
}
